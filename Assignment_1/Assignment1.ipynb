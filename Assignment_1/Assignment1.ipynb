{
 "cells": [
  {
   "cell_type": "markdown",
   "id": "4658a6c0-697b-4a38-a347-2e533c3c1d7e",
   "metadata": {},
   "source": [
    "### Name : Ayodya W.K.H\n",
    "### Index No : 190065K"
   ]
  },
  {
   "cell_type": "markdown",
   "id": "90f79954-afc0-485c-bf6d-571902be086d",
   "metadata": {},
   "source": [
    "## Question 1\n",
    "Implement the intensity transformation depicted in Fig.1a on the image shown in Fig.1b."
   ]
  },
  {
   "cell_type": "markdown",
   "id": "97cf9891-0abe-4005-9028-1e231ca9c26f",
   "metadata": {},
   "source": [
    "### Question 2\n",
    "Apply a similar operation as above (question 1) to accentuate <br>\n",
    "(a) white matter<br>\n",
    "(b) gray matter<br>\n",
    "in the brain proton density image shown in Fig.2. Show the intensity transformations as a plots. "
   ]
  },
  {
   "cell_type": "markdown",
   "id": "47846119-ef4f-4a80-9d4b-a191166b3307",
   "metadata": {},
   "source": [
    "### Question 3\n",
    "Consider the image shown in Fig.31. <br>\n",
    "(a) Apply gamma correction to the L plane in the L∗a∗b∗ color space and state the γ value. <br>\n",
    "(b) Show the histograms of the original and corrected images."
   ]
  },
  {
   "cell_type": "markdown",
   "id": "782aad1d-e9b2-4e52-9563-d69e522edb2e",
   "metadata": {},
   "source": [
    "### Question 4\n",
    "Write a function of your own to carry out histogram equalization on the image shown in Fig.4. Show the histograms before and after equalization. "
   ]
  },
  {
   "cell_type": "markdown",
   "id": "4a1c0b68-9a6a-4ad2-8aac-bf56e1398f3a",
   "metadata": {},
   "source": [
    "### Question 5\n",
    "Write a program to zoom images by a given factor s ∈ (0, 10]. You must use a function to zoom the image, which can handle <br>\n",
    "(a) nearest-neighbor, and <br>\n",
    "(b) bilinear interpolation. <br>\n",
    "\n",
    "I have included four images, two large originals, and there zoomed-out versions. Test you algorithm by computing the normalized sum of squared difference (SSD) when you scale-up the given small images by a factor of 4 by comparing with the original images."
   ]
  },
  {
   "cell_type": "markdown",
   "id": "4a6cce66-6cb8-4f86-8bd7-0fc8c4eb4155",
   "metadata": {},
   "source": [
    "### Question 6\n",
    "Filtering with the Sobel operator can compute the gradient. Consider the image shown in Fig.5. <br>\n",
    "(a) Using the existing filter2D to Sobel filter the image. <br>\n",
    "(b) Write your own code to Sobel filter the image. <br>\n",
    "(c) Using the property <br>\n",
    "$$\n",
    "\\left(\\begin{array}{cc} 1 & 0 & -1\\\\2 & 0 & -2\\\\1 & 0 & -1\\end{array}\\right) = \n",
    "\\left(\\begin{array}{cc} 1 \\\\ 2 \\\\ 1 \\end{array}\\right) *\n",
    "\\left(\\begin{array}{cc} 1 & 0 & -1 \\end{array}\\right)\n",
    "$$ \n",
    "carry out Sobel filtering."
   ]
  },
  {
   "cell_type": "markdown",
   "id": "83bfce25-6faf-4f05-8fb3-dc08b46f8f0a",
   "metadata": {},
   "source": [
    "### Question 7\n",
    "Fig.6<sup>2</sup> shows a flower image with both the foreground and background are in focus.<br>\n",
    "(a) Use grabCut to segment the image. Show the final segmentation mask, foreground image, and background image.<br>\n",
    "(b) Produce an enhanced image with a substantially blurred background. Display the original image alongside the enhanced image.<br>\n",
    "(c) Why is the background just beyond the edge of the flower quite dark in the enhanced image."
   ]
  },
  {
   "cell_type": "code",
   "execution_count": null,
   "id": "17ea1c81-97d5-4e88-b82c-d8ed1f3c6065",
   "metadata": {},
   "outputs": [],
   "source": []
  }
 ],
 "metadata": {
  "kernelspec": {
   "display_name": "Python 3 (ipykernel)",
   "language": "python",
   "name": "python3"
  },
  "language_info": {
   "codemirror_mode": {
    "name": "ipython",
    "version": 3
   },
   "file_extension": ".py",
   "mimetype": "text/x-python",
   "name": "python",
   "nbconvert_exporter": "python",
   "pygments_lexer": "ipython3",
   "version": "3.9.0"
  }
 },
 "nbformat": 4,
 "nbformat_minor": 5
}
