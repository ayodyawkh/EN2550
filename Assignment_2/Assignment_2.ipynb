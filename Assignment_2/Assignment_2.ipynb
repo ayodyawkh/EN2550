{
 "cells": [
  {
   "cell_type": "markdown",
   "id": "4290b554-83a8-4d85-b114-3398652894da",
   "metadata": {},
   "source": [
    "---\n",
    "#### <b>Name : Ayodya W.K.H</b>\n",
    "#### <b>Index No : 190065K</b>\n",
    "#### <b>Asssignment II - Fitting and Allignment</b>\n",
    "---"
   ]
  },
  {
   "cell_type": "markdown",
   "id": "a02f92cd-2e44-4a3d-805a-72bcb306a338",
   "metadata": {},
   "source": [
    "#### Question 1"
   ]
  },
  {
   "cell_type": "code",
   "execution_count": null,
   "id": "5ebe9690-e6ee-422e-b78b-11193ff42b2c",
   "metadata": {},
   "outputs": [],
   "source": []
  },
  {
   "cell_type": "markdown",
   "id": "4f3ead58-d09b-4ccc-ac63-4f64278c89cd",
   "metadata": {},
   "source": [
    "#### Question 2"
   ]
  },
  {
   "cell_type": "code",
   "execution_count": null,
   "id": "4f42051c-7092-4ac4-b22c-422694a9746a",
   "metadata": {},
   "outputs": [],
   "source": []
  },
  {
   "cell_type": "markdown",
   "id": "92891dac-7438-4aed-a818-6d68a72c6424",
   "metadata": {},
   "source": [
    "#### Question 3"
   ]
  },
  {
   "cell_type": "code",
   "execution_count": null,
   "id": "3443fae4-4aec-42c5-8aad-4e699487774a",
   "metadata": {},
   "outputs": [],
   "source": []
  }
 ],
 "metadata": {
  "kernelspec": {
   "display_name": "Python 3 (ipykernel)",
   "language": "python",
   "name": "python3"
  },
  "language_info": {
   "codemirror_mode": {
    "name": "ipython",
    "version": 3
   },
   "file_extension": ".py",
   "mimetype": "text/x-python",
   "name": "python",
   "nbconvert_exporter": "python",
   "pygments_lexer": "ipython3",
   "version": "3.9.0"
  }
 },
 "nbformat": 4,
 "nbformat_minor": 5
}
