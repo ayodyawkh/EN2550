{
 "cells": [
  {
   "cell_type": "markdown",
   "id": "52551569-e0c9-4ea7-8195-2d2bb1536bd8",
   "metadata": {},
   "source": [
    "---\n",
    "##### <b>Name : Ayodya W.K.H</b>\n",
    "##### <b>Index Number : 190065K</b>\n",
    "---\n",
    "##### <b>Assignmnet 3 : Object Counting on a Conveyor Belt</b>\n",
    "---"
   ]
  },
  {
   "cell_type": "code",
   "execution_count": null,
   "id": "82313876-4cd7-48c8-86fe-974b03b2b46d",
   "metadata": {},
   "outputs": [],
   "source": []
  }
 ],
 "metadata": {
  "kernelspec": {
   "display_name": "Python 3 (ipykernel)",
   "language": "python",
   "name": "python3"
  },
  "language_info": {
   "codemirror_mode": {
    "name": "ipython",
    "version": 3
   },
   "file_extension": ".py",
   "mimetype": "text/x-python",
   "name": "python",
   "nbconvert_exporter": "python",
   "pygments_lexer": "ipython3",
   "version": "3.9.0"
  }
 },
 "nbformat": 4,
 "nbformat_minor": 5
}
