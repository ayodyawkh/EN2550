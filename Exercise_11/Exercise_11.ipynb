{
 "cells": [
  {
   "cell_type": "markdown",
   "id": "53379927-d7fb-4fed-8cf7-968fefa40281",
   "metadata": {},
   "source": [
    "#### Name : Ayodya W.K.H\n",
    "#### Index No : 190065K"
   ]
  },
  {
   "cell_type": "markdown",
   "id": "b1520d4f-f7ae-4408-a485-b5247421cf4d",
   "metadata": {},
   "source": [
    "#### Question 1"
   ]
  },
  {
   "cell_type": "code",
   "execution_count": null,
   "id": "ae37c3ae-8ddf-4807-af67-f079c0ff7736",
   "metadata": {},
   "outputs": [],
   "source": []
  }
 ],
 "metadata": {
  "kernelspec": {
   "display_name": "Python 3 (ipykernel)",
   "language": "python",
   "name": "python3"
  },
  "language_info": {
   "codemirror_mode": {
    "name": "ipython",
    "version": 3
   },
   "file_extension": ".py",
   "mimetype": "text/x-python",
   "name": "python",
   "nbconvert_exporter": "python",
   "pygments_lexer": "ipython3",
   "version": "3.9.0"
  }
 },
 "nbformat": 4,
 "nbformat_minor": 5
}
